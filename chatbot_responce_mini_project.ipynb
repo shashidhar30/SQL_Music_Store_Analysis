{
  "nbformat": 4,
  "nbformat_minor": 0,
  "metadata": {
    "colab": {
      "provenance": [],
      "authorship_tag": "ABX9TyNSHiFiMma7RMIRI0vZiFMA",
      "include_colab_link": true
    },
    "kernelspec": {
      "name": "python3",
      "display_name": "Python 3"
    },
    "language_info": {
      "name": "python"
    }
  },
  "cells": [
    {
      "cell_type": "markdown",
      "metadata": {
        "id": "view-in-github",
        "colab_type": "text"
      },
      "source": [
        "<a href=\"https://colab.research.google.com/github/shashidhar30/SQL_Music_Store_Analysis/blob/main/chatbot_responce_mini_project.ipynb\" target=\"_parent\"><img src=\"https://colab.research.google.com/assets/colab-badge.svg\" alt=\"Open In Colab\"/></a>"
      ]
    },
    {
      "cell_type": "code",
      "source": [
        "def chatbot_response(user_input):\n",
        "    user_input = user_input.lower()\n",
        "\n",
        "    # Basic responses based on user input\n",
        "    if \"hello\" in user_input or \"hi\" in user_input:\n",
        "        return \"Hello! How can I help you today?\"\n",
        "    elif \"how are you\" in user_input:\n",
        "        return \"I'm just a bot, but I'm doing great! How about you?\"\n",
        "    elif \"your name\" in user_input:\n",
        "        return \"I'm a simple chatbot created to assist you.\"\n",
        "    elif \"help\" in user_input:\n",
        "        return \"Sure! I'm here to help. What do you need assistance with?\"\n",
        "    elif \"bye\" in user_input or \"exit\" in user_input:\n",
        "        return \"Goodbye! Have a nice day!\"\n",
        "    else:\n",
        "        return \"I'm sorry, I don't understand that. Can you please rephrase?\"\n"
      ],
      "metadata": {
        "id": "Tcf71ICm4mvy"
      },
      "execution_count": 3,
      "outputs": []
    },
    {
      "cell_type": "code",
      "source": [
        "\n",
        "def main():\n",
        "    print(\"Chatbot: Hello! I am your chatbot. Type 'bye' or 'exit' to end the conversation.\")\n",
        "\n",
        "    while True:\n",
        "        user_input = input(\"You: \")\n",
        "        if user_input.lower() in [\"bye\", \"exit\"]:\n",
        "            print(\"Chatbot: Goodbye! Have a nice day!\")\n",
        "            break\n",
        "        response = chatbot_response(user_input)\n",
        "        print(f\"Chatbot: {response}\")\n",
        "\n",
        "if __name__ == \"__main__\":\n",
        "    main()"
      ],
      "metadata": {
        "colab": {
          "base_uri": "https://localhost:8080/"
        },
        "id": "Ffwitxrc47hL",
        "outputId": "bc346385-e904-4777-9e4e-802da4298d71"
      },
      "execution_count": 4,
      "outputs": [
        {
          "output_type": "stream",
          "name": "stdout",
          "text": [
            "Chatbot: Hello! I am your chatbot. Type 'bye' or 'exit' to end the conversation.\n",
            "You: hi\n",
            "Chatbot: Hello! How can I help you today?\n",
            "You: i need laptop pic\n",
            "Chatbot: I'm sorry, I don't understand that. Can you please rephrase?\n",
            "You: what are you dng \n",
            "Chatbot: I'm sorry, I don't understand that. Can you please rephrase?\n",
            "You: your name \n",
            "Chatbot: I'm a simple chatbot created to assist you.\n",
            "You: bye\n",
            "Chatbot: Goodbye! Have a nice day!\n"
          ]
        }
      ]
    },
    {
      "cell_type": "markdown",
      "source": [
        "Conversation Loop:\n",
        "User Input: The program enters a loop where it continuously prompts the user to enter text.\n",
        "Ending the Conversation: If the user types \"bye\" or \"exit,\" the loop breaks, and the chatbot says goodbye.\n",
        "Generating a Response: For any other input, the chatbot calls the chatbot_response() function to determine the appropriate response.\n",
        "Displaying the Response: The response from the chatbot is printed to the screen"
      ],
      "metadata": {
        "id": "JrFFpo3I6d5D"
      }
    },
    {
      "cell_type": "code",
      "source": [
        "if __name__ == \"__main__\":\n",
        "    main()\n"
      ],
      "metadata": {
        "colab": {
          "base_uri": "https://localhost:8080/"
        },
        "id": "VDw3izjR6jVA",
        "outputId": "d095f0e2-785e-40a2-d68a-21bcaa17cc5f"
      },
      "execution_count": 5,
      "outputs": [
        {
          "output_type": "stream",
          "name": "stdout",
          "text": [
            "Chatbot: Hello! I am your chatbot. Type 'bye' or 'exit' to end the conversation.\n",
            "You: hi\n",
            "Chatbot: Hello! How can I help you today?\n",
            "You: your name \n",
            "Chatbot: I'm a simple chatbot created to assist you.\n",
            "You: bye\n",
            "Chatbot: Goodbye! Have a nice day!\n"
          ]
        }
      ]
    }
  ]
}